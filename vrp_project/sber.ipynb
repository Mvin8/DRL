{
 "cells": [
  {
   "cell_type": "code",
   "execution_count": 1,
   "metadata": {},
   "outputs": [
    {
     "name": "stdout",
     "output_type": "stream",
     "text": [
      "Route for vehicle 0:\n",
      "Node '100' Delivered(0) -> Node '47' Delivered(343) ->  Node '100' Delivered(343)\n",
      "Time of the route: 0min\n",
      "Load of the route: 343\n",
      "\n",
      "Route for vehicle 1:\n",
      "Node '100' Delivered(0) -> Node '87' Delivered(355) ->  Node '100' Delivered(355)\n",
      "Time of the route: 0min\n",
      "Load of the route: 355\n",
      "\n",
      "Route for vehicle 2:\n",
      "Node '100' Delivered(0) -> Node '113' Delivered(425) ->  Node '100' Delivered(425)\n",
      "Time of the route: 0min\n",
      "Load of the route: 425\n",
      "\n",
      "Route for vehicle 3:\n",
      "Node '100' Delivered(0) -> Node '200' Delivered(301) -> Node '15' Delivered(393) ->  Node '100' Delivered(393)\n",
      "Time of the route: 0min\n",
      "Load of the route: 393\n",
      "\n",
      "Total time of all routes: 0min\n",
      "Total load of all routes: 1516\n"
     ]
    },
    {
     "data": {
      "text/plain": [
       "({0: 0, 1: 0, 2: 0, 3: 0}, [3, 1, 3, 2, 3, 4, 3, 5, 0], 0)"
      ]
     },
     "execution_count": 1,
     "metadata": {},
     "output_type": "execute_result"
    }
   ],
   "source": [
    "import networkx as nx\n",
    "from cvrp_ortools_base import solve_cvrp\n",
    "from collections import Counter\n",
    "\n",
    "# Получить матрицу времени перемещений из графа для определенных узлов\n",
    "def get_time_matrix(G_init):\n",
    "    G_demand = G_init.copy()\n",
    "    # Reindex nodes\n",
    "    i = 0\n",
    "    index_mapping = {}\n",
    "    for node in G_demand.nodes:\n",
    "        index_mapping[node] = i\n",
    "        i += 1\n",
    "    G = nx.relabel_nodes(G_demand, index_mapping, copy=False)\n",
    "    max_index = i\n",
    "\n",
    "    # Convert to time matrix\n",
    "    time_matrix = []\n",
    "    for i in range(max_index):\n",
    "        l = []\n",
    "        for j in range(max_index):\n",
    "            if i == j:\n",
    "                l.append(0)\n",
    "            else:\n",
    "                l.append(round(G[i][j][\"weight\"], 2))\n",
    "        time_matrix.append(l)\n",
    "\n",
    "    return time_matrix, index_mapping\n",
    "\n",
    "# Получить массив спроса по узлам за период\n",
    "def calc_demand(G_init, period: list, index_mapping):\n",
    "    demand_dicts = []\n",
    "    for date in period:\n",
    "        demand_dict = nx.get_node_attributes(G_init, date)\n",
    "        demand_dicts.append(demand_dict)\n",
    "    # Суммировать спрос за период по каждому узлу\n",
    "    accum_demand = Counter(demand_dicts[0])\n",
    "    for i in range(1, len(demand_dicts)):\n",
    "        accum_demand = accum_demand + Counter(demand_dicts[i])\n",
    "    # Для использования в or-tools спрос должен быть представлен в виде массива, где узел идентифицируется индексом\n",
    "    demand_list = list(accum_demand.values())\n",
    "    # Включить узел депо с нулевым спросом\n",
    "    start_node_index = index_mapping[start_node]\n",
    "    demand_list.insert(start_node_index, 0)\n",
    "    return demand_list\n",
    "\n",
    "# Граф Василеостровского района со значениями спроса по суткам\n",
    "G_demand = nx.read_graphml('datasets/graph_with_demand.graphml')\n",
    "# Даты, за которые рассматривается спрос (в данном варианте - за одну дату)\n",
    "dates = ['2022-01-05']\n",
    "# Ограничение количества узлов с потреблением для моделирования проблемы\n",
    "# ЗДЕСЬ МОГУТ БЫТЬ ПЕРЕЧИСЛЕНЫ ТОЛЬКО УЗЛЫ СО СПРОСОМ\n",
    "chosen_points = ['113', '47', '15', '87', '200']\n",
    "# Назначение узла-депо\n",
    "start_node = '100'\n",
    "# Задать доступное количество транспортных средств (фиксированное)\n",
    "num_vehicles = 4\n",
    "# Из графа исключаются все узлы, кроме выбранных узлов с потреблением и узла-депо\n",
    "G_demand.remove_nodes_from(list(n for n in G_demand.nodes if n not in chosen_points and n != start_node))\n",
    "\n",
    "# Получить матрицу времени перемещений для \"обрезанного\" графа\n",
    "time_matrix, mapping = get_time_matrix(G_demand)\n",
    "# Получить спрос за выбранные даты\n",
    "demand = calc_demand(G_demand, dates, mapping)\n",
    "# Получить индекс узла депо\n",
    "depo_index = mapping[start_node]\n",
    "\n",
    "# Запустить решение CVRP при заданных параметрах\n",
    "solve_cvrp(time_matrix, demand, depo_index, num_vehicles, mapping)"
   ]
  }
 ],
 "metadata": {
  "kernelspec": {
   "display_name": "Python 3.10.11 ('vrptest': venv)",
   "language": "python",
   "name": "python3"
  },
  "language_info": {
   "codemirror_mode": {
    "name": "ipython",
    "version": 3
   },
   "file_extension": ".py",
   "mimetype": "text/x-python",
   "name": "python",
   "nbconvert_exporter": "python",
   "pygments_lexer": "ipython3",
   "version": "3.10.11"
  },
  "orig_nbformat": 4,
  "vscode": {
   "interpreter": {
    "hash": "08937daeaa3b9cb2c169d4b5e7011e9e651c8b2cb2f9ea96272765da9235f9f3"
   }
  }
 },
 "nbformat": 4,
 "nbformat_minor": 2
}
