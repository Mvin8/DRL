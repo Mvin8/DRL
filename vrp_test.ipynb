{
 "cells": [
  {
   "cell_type": "code",
   "execution_count": 1,
   "metadata": {},
   "outputs": [
    {
     "name": "stderr",
     "output_type": "stream",
     "text": [
      "/Users/mvin/Code/DRL-and-graph-neural-network-for-routing-problems/vrptest/lib/python3.10/site-packages/tqdm/auto.py:21: TqdmWarning: IProgress not found. Please update jupyter and ipywidgets. See https://ipywidgets.readthedocs.io/en/stable/user_install.html\n",
      "  from .autonotebook import tqdm as notebook_tqdm\n"
     ]
    }
   ],
   "source": [
    "import torch\n",
    "import os\n",
    "import numpy as np\n",
    "from torch_geometric.data import Data, DataLoader\n",
    "from VRP.creat_vrp import reward1,creat_instance\n",
    "from VRP.VRP_Actor import Model"
   ]
  },
  {
   "cell_type": "code",
   "execution_count": 2,
   "metadata": {},
   "outputs": [],
   "source": [
    "device = torch.device('cuda' if torch.cuda.is_available() else 'cpu')\n",
    "\n",
    "def rollout(model, dataset,n_nodes):\n",
    "    model.eval()\n",
    "    def eval_model_bat(bat):\n",
    "        with torch.no_grad():\n",
    "            cost, _ = model(bat, n_nodes * 2,True)\n",
    "            cost = reward1(bat.x,cost.detach(), n_nodes)\n",
    "        return cost.cpu()\n",
    "    totall_cost = torch.cat([eval_model_bat(bat.to(device))for bat in dataset], 0)\n",
    "    return totall_cost\n",
    "\n",
    "def evaliuate(valid_loder,n_node):\n",
    "    folder = 'trained'\n",
    "\n",
    "    agent = Model(3, 128, 1, 16, conv_laysers=4).to(device)\n",
    "    agent.to(device)\n",
    "\n",
    "    filepath = os.path.join(folder, '%s' % n_node)\n",
    "\n",
    "    if os.path.exists(filepath):\n",
    "        path1 = os.path.join(filepath, 'actor.pt')\n",
    "        agent.load_state_dict(torch.load(path1, device))\n",
    "    cost = rollout(agent, valid_loder, n_node)\n",
    "    cost = cost.mean()\n",
    "    print('Problem:VRP''%s' % n_node,'/ Average distance:',cost.item())\n",
    "\n",
    "    cost1=cost.min()\n",
    "\n",
    "    return cost,cost1\n",
    "\n"
   ]
  },
  {
   "cell_type": "code",
   "execution_count": 3,
   "metadata": {},
   "outputs": [],
   "source": [
    "\n",
    "datas = []\n",
    "n_node = 21\n",
    "if n_node==21 or n_node==51 or n_node==101:\n",
    "    node_ = np.loadtxt('VRP/test_data/vrp{}_test_data.csv'.format(n_node-1), dtype=float, delimiter=',')\n",
    "    demand_ = np.loadtxt('VRP/test_data/vrp{}_demand.csv'.format(n_node-1), dtype=float, delimiter=',')\n",
    "    capcity_ = np.loadtxt('VRP/test_data/vrp{}_capcity.csv'.format(n_node-1), dtype=float, delimiter=',')\n",
    "    batch_size=128\n",
    "else:\n",
    "    print('Please enter 21, 51 or 101')\n",
    "node_ = node_.reshape(-1, n_node, 2)\n",
    "# Calculate the distance matrix\n",
    "def c_dist(x1,x2):\n",
    "    return ((x1[0]-x2[0])**2+(x1[1]-x2[1])**2)**0.5\n",
    "#edges = torch.zeros(n_nodes,n_nodes)\n",
    "\n",
    "data_size = node_.shape[0]\n",
    "\n",
    "edges = np.zeros((data_size, n_node, n_node, 1))\n",
    "for k, data in enumerate(node_):\n",
    "    for i, (x1, y1) in enumerate(data):\n",
    "        for j, (x2, y2) in enumerate(data):\n",
    "            d = c_dist((x1, y1), (x2, y2))\n",
    "            edges[k][i][j][0] = d\n",
    "edges_ = edges.reshape(data_size, -1, 1)\n",
    "\n",
    "edges_index = []\n",
    "for i in range(n_node):\n",
    "    for j in range(n_node):\n",
    "        edges_index.append([i, j])\n",
    "edges_index = torch.LongTensor(edges_index)\n",
    "edges_index = edges_index.transpose(dim0=0, dim1=1)\n",
    "\n",
    "for i in range(1): #номер датафрейма(вроде решается для всех сразу)\n",
    "    data = Data(x=torch.from_numpy(node_[i]).float(), edge_index=edges_index, edge_attr=torch.from_numpy(edges_[i]).float(),\n",
    "                demand=torch.tensor(demand_[i]).unsqueeze(-1).float(),\n",
    "                capcity=torch.tensor(capcity_[i]).unsqueeze(-1).float())\n",
    "    datas.append(data)\n",
    "\n"
   ]
  },
  {
   "cell_type": "code",
   "execution_count": 4,
   "metadata": {},
   "outputs": [
    {
     "name": "stdout",
     "output_type": "stream",
     "text": [
      "Problem:VRP21 / Average distance: 9.388959884643555\n"
     ]
    },
    {
     "name": "stderr",
     "output_type": "stream",
     "text": [
      "/Users/mvin/Code/DRL-and-graph-neural-network-for-routing-problems/vrptest/lib/python3.10/site-packages/torch_geometric/deprecation.py:22: UserWarning: 'data.DataLoader' is deprecated, use 'loader.DataLoader' instead\n",
      "  warnings.warn(out)\n"
     ]
    },
    {
     "data": {
      "text/plain": [
       "(tensor(9.3890), tensor(9.3890))"
      ]
     },
     "execution_count": 4,
     "metadata": {},
     "output_type": "execute_result"
    }
   ],
   "source": [
    "\n",
    "dl = DataLoader(datas, batch_size=128)\n",
    "evaliuate(dl,n_node)"
   ]
  },
  {
   "cell_type": "markdown",
   "metadata": {},
   "source": [
    "### matplotlib"
   ]
  },
  {
   "cell_type": "code",
   "execution_count": 5,
   "metadata": {},
   "outputs": [],
   "source": [
    "import os\n",
    "import numpy as np\n",
    "import torch\n",
    "from VRP.creat_vrp import reward1\n",
    "\n",
    "from torch_geometric.data import Data,DataLoader\n",
    "from VRP.VRP_Actor import Model\n",
    "from matplotlib import pyplot as plt\n",
    "from matplotlib.collections import PatchCollection\n",
    "from matplotlib.patches import Rectangle\n",
    "\n",
    "device = torch.device('cuda' if torch.cuda.is_available() else 'cpu')\n",
    "n_nodes = 11"
   ]
  },
  {
   "cell_type": "code",
   "execution_count": 6,
   "metadata": {},
   "outputs": [],
   "source": [
    "def discrete_cmap(N, base_cmap=None):\n",
    "    base = plt.cm.get_cmap(base_cmap)\n",
    "    color_list = base(np.linspace(0, 1, N))\n",
    "    cmap_name = base.name + str(N)\n",
    "    return base.from_list(cmap_name, color_list, N)"
   ]
  },
  {
   "cell_type": "code",
   "execution_count": 7,
   "metadata": {},
   "outputs": [],
   "source": [
    "def plot_vehicle_routes(data, route, ax1,Greedy, markersize=5, visualize_demands=False, demand_scale=1, round_demand=False):\n",
    "\n",
    "    plt.rc('font', family='Times New Roman', size=10)\n",
    "\n",
    "    routes = [r[r != 0] for r in np.split(route.cpu().numpy(), np.where(route.cpu().numpy() == 0)[0]) if (r != 0).any()]\n",
    "    depot = data.x[0].cpu().numpy()\n",
    "    locs = data.x[1:].cpu().numpy()\n",
    "    demands = data.demand.cpu().numpy()*10\n",
    "    demands=demands[1:]\n",
    "\n",
    "    capacity = data.capcity*10\n",
    "\n",
    "    x_dep, y_dep = depot\n",
    "    ax1.plot(x_dep, y_dep, 'sk', markersize=markersize * 4)\n",
    "    ax1.set_xlim(0, 1)\n",
    "    ax1.set_ylim(0, 1)\n",
    "\n",
    "    legend = ax1.legend(loc='upper center')\n",
    "\n",
    "    cmap = discrete_cmap(len(routes) + 2, 'nipy_spectral')\n",
    "    dem_rects = []\n",
    "    used_rects = []\n",
    "    cap_rects = []\n",
    "    qvs = []\n",
    "    total_dist = 0\n",
    "    for veh_number, r in enumerate(routes):\n",
    "        color = cmap(len(routes) - veh_number)  # Invert to have in rainbow order\n",
    "\n",
    "        route_demands = demands[r - 1]\n",
    "        coords = locs[r - 1, :]\n",
    "        xs, ys = coords.transpose()\n",
    "\n",
    "        total_route_demand = sum(route_demands)\n",
    "        #assert total_route_demand <= capacity\n",
    "        if not visualize_demands:\n",
    "            ax1.plot(xs, ys, 'o', mfc=color, markersize=markersize, markeredgewidth=0.0)\n",
    "\n",
    "        dist = 0\n",
    "        x_prev, y_prev = x_dep, y_dep\n",
    "        cum_demand = 0\n",
    "        for (x, y), d in zip(coords, route_demands):\n",
    "            dist += np.sqrt((x - x_prev) ** 2 + (y - y_prev) ** 2)\n",
    "\n",
    "            cap_rects.append(Rectangle((x, y), 0.01, 0.1))\n",
    "            used_rects.append(Rectangle((x, y), 0.01, 0.1 * total_route_demand / capacity))\n",
    "            dem_rects.append(Rectangle((x, y + 0.1 * cum_demand / capacity), 0.01, 0.1 * d / capacity))\n",
    "\n",
    "            x_prev, y_prev = x, y\n",
    "            cum_demand += d\n",
    "\n",
    "        dist += np.sqrt((x_dep - x_prev) ** 2 + (y_dep - y_prev) ** 2)\n",
    "        total_dist += dist\n",
    "        qv = ax1.quiver(\n",
    "            xs[:-1],\n",
    "            ys[:-1],\n",
    "            xs[1:] - xs[:-1],\n",
    "            ys[1:] - ys[:-1],\n",
    "            scale_units='xy',\n",
    "            angles='xy',\n",
    "            scale=1,\n",
    "            color=color,\n",
    "            label='R{}, N({}), C {} / {}, D {:.2f}'.format(\n",
    "                veh_number,\n",
    "                len(r),\n",
    "                int(total_route_demand) if round_demand else total_route_demand,\n",
    "                int(capacity) if round_demand else capacity,\n",
    "                dist\n",
    "            )\n",
    "        )\n",
    "\n",
    "        qvs.append(qv)\n",
    "    if Greedy:\n",
    "        ax1.set_title('Greedy,{} routes, total distance {:.2f}'.format(len(routes), total_dist), family='Times New Roman',size=20)\n",
    "    else:\n",
    "        ax1.set_title('Sampling1280,{} routes, total distance {:.2f}'.format(len(routes), total_dist), family='Times New Roman',size=20)\n",
    "\n",
    "    ax1.legend(handles=qvs)\n",
    "    plt.legend(loc=1)\n",
    "    pc_cap = PatchCollection(cap_rects, facecolor='whitesmoke', alpha=1.0, edgecolor='lightgray')\n",
    "    pc_used = PatchCollection(used_rects, facecolor='lightgray', alpha=1.0, edgecolor='lightgray')\n",
    "    pc_dem = PatchCollection(dem_rects, facecolor='black', alpha=1.0, edgecolor='black')\n",
    "\n",
    "    if visualize_demands:\n",
    "        ax1.add_collection(pc_cap)\n",
    "        ax1.add_collection(pc_used)\n",
    "        ax1.add_collection(pc_dem)\n",
    "    plt.show()\n",
    "    #plt.savefig(\"./temp{}.png\".format(54), dpi=600, bbox_inches='tight')\n"
   ]
  },
  {
   "cell_type": "code",
   "execution_count": 8,
   "metadata": {},
   "outputs": [],
   "source": [
    "def vrp_matplotlib(Greedy=False):\n",
    "\n",
    "    node_ = np.loadtxt('VRP/test_data/vrp20_test_data.csv', dtype=float, delimiter=',')\n",
    "    # demand_=np.loadtxt('VRP/test_data/vrp20_demand.csv', dtype=float, delimiter=',')\n",
    "    demand_=np.loadtxt('VRP/test_data/demand_10.csv', dtype=float, delimiter=';')\n",
    "    capcity_=np.loadtxt('VRP/test_data/vrp20_capcity.csv', dtype=float, delimiter=',')\n",
    "\n",
    "    node_ = node_[:11]\n",
    "    demand_= demand_[:1]\n",
    "    capcity_ =capcity_[:1]\n",
    "    # capcity_ = np.array([5.0]) #настройка вместимости транспорта\n",
    "    node_,demand_=node_.reshape(-1,n_nodes,2),demand_.reshape(-1,n_nodes)\n",
    "    data_size = node_.shape[0]\n",
    "\n",
    "    # x=np.random.randint(1,data_size)\n",
    "    x=0 # выбираем набор данных\n",
    "    # Calculate the distance matrix\n",
    "    edges = np.zeros((n_nodes, n_nodes, 1))\n",
    "    def c_dist(x1, x2):\n",
    "        return ((x1[0] - x2[0]) ** 2 + (x1[1] - x2[1]) ** 2) ** 0.5\n",
    "    for i, (x1, y1) in enumerate(node_[x]):\n",
    "        for j, (x2, y2) in enumerate(node_[x]):\n",
    "            d = c_dist((x1, y1), (x2, y2))\n",
    "            edges[i][j][0] = d\n",
    "    edges_ = edges.reshape(-1, 1)\n",
    "\n",
    "    edges_index = []\n",
    "    for i in range(n_nodes):\n",
    "        for j in range(n_nodes):\n",
    "            edges_index.append([i, j])\n",
    "    edges_index = torch.LongTensor(edges_index)\n",
    "    edges_index = edges_index.transpose(dim0=0, dim1=1)\n",
    "\n",
    "    datas = []\n",
    "    data = Data(x=torch.from_numpy(node_[x]).float(), edge_index=edges_index, edge_attr=torch.from_numpy(edges_).float(),\n",
    "                demand=torch.tensor(demand_[x]).unsqueeze(-1).float(),\n",
    "                capcity=torch.tensor(capcity_[x]).unsqueeze(-1).float())\n",
    "    datas.append(data)\n",
    "\n",
    "    data_loder = DataLoader(datas, batch_size=1)\n",
    "\n",
    "\n",
    "    agent = Model(3, 128, 1, 16, conv_laysers=4).to(device)\n",
    "    agent.to(device)\n",
    "    folder = 'trained'\n",
    "    filepath = os.path.join(folder, '%s' % n_nodes)\n",
    "\n",
    "    if os.path.exists(filepath):\n",
    "        path1 = os.path.join(filepath, 'actor.pt')\n",
    "        agent.load_state_dict(torch.load(path1, device))\n",
    "    if Greedy:\n",
    "        batch = next(iter(data_loder))\n",
    "        batch.to(device)\n",
    "        agent.eval()\n",
    "        #-------------------------------------------------------------------------------------------Greedy\n",
    "        with torch.no_grad():\n",
    "            tour, _ = agent(batch, n_nodes * 2,True)\n",
    "            #cost = reward1(batch.x, tour.detach(), n_nodes)\n",
    "            #print(cost)\n",
    "            #print(tour)\n",
    "    #-------------------------------------------------------------------------------------------sampling1280\n",
    "    else:\n",
    "        datas_ = []\n",
    "        batch_size1 = 128  # sampling batch_size\n",
    "        for y in range(1280):\n",
    "            data = Data(x=torch.from_numpy(node_[x]).float(), edge_index=edges_index,\n",
    "                        edge_attr=torch.from_numpy(edges_).float(),\n",
    "                        demand=torch.tensor(demand_[x]).unsqueeze(-1).float(),\n",
    "                        capcity=torch.tensor(capcity_[x]).unsqueeze(-1).float())\n",
    "            datas_.append(data)\n",
    "        dl = DataLoader(datas_, batch_size=batch_size1)\n",
    "\n",
    "        min_tour=[]\n",
    "        min_cost=100\n",
    "        T=1.2#Temperature hyperparameters\n",
    "        for batch in dl:\n",
    "            with torch.no_grad():\n",
    "                batch.to(device)\n",
    "                tour1, _ = agent(batch, n_nodes * 2,False, T)\n",
    "                cost = reward1(batch.x, tour1.detach(), n_nodes)\n",
    "\n",
    "                id = np.array(cost.cpu()).argmin()\n",
    "                m_cost=np.array(cost.cpu()).min()\n",
    "                tour1=tour1.reshape(batch_size1,-1)\n",
    "                if m_cost<min_cost:\n",
    "                    min_cost=m_cost\n",
    "                    min_tour=tour1[id]\n",
    "\n",
    "        tour=min_tour.unsqueeze(-2)\n",
    "\n",
    "    #--------------------------------------------------------------------------------------------\n",
    "    for i, (data, tour) in enumerate(zip(data_loder, tour)):\n",
    "        if Greedy:\n",
    "            print(data.x,data.demand,tour)\n",
    "            fig, ax = plt.subplots(figsize=(10, 10))\n",
    "            plot_vehicle_routes(data, tour, ax,Greedy, visualize_demands=False, demand_scale=20, round_demand=True)\n",
    "        else:\n",
    "            fig, ax = plt.subplots(figsize=(10, 10))\n",
    "            plot_vehicle_routes(data, tour, ax,Greedy, visualize_demands=False, demand_scale=50, round_demand=True)\n"
   ]
  },
  {
   "cell_type": "code",
   "execution_count": 9,
   "metadata": {},
   "outputs": [],
   "source": [
    "node_ = np.loadtxt('VRP/test_data/vrp20_test_data.csv', dtype=float, delimiter=',')\n",
    "# demand_=np.loadtxt('VRP/test_data/vrp20_demand.csv', dtype=float, delimiter=',')\n",
    "demand_=np.loadtxt('VRP/test_data/demand_10.csv', dtype=float, delimiter=';')\n",
    "capcity_=np.loadtxt('VRP/test_data/vrp20_capcity.csv', dtype=float, delimiter=',')\n"
   ]
  },
  {
   "cell_type": "code",
   "execution_count": 10,
   "metadata": {},
   "outputs": [
    {
     "data": {
      "text/plain": [
       "1"
      ]
     },
     "execution_count": 10,
     "metadata": {},
     "output_type": "execute_result"
    }
   ],
   "source": [
    "node_ = node_[:11]\n",
    "demand_= demand_[:1]\n",
    "capcity_ =capcity_[:1]\n",
    "\n",
    "node_,demand_=node_.reshape(-1,n_nodes,2),demand_.reshape(-1,n_nodes)\n",
    "data_size = node_.shape[0]\n",
    "data_size"
   ]
  },
  {
   "cell_type": "code",
   "execution_count": 12,
   "metadata": {},
   "outputs": [
    {
     "name": "stderr",
     "output_type": "stream",
     "text": [
      "/Users/mvin/Code/DRL-and-graph-neural-network-for-routing-problems/vrptest/lib/python3.10/site-packages/torch_geometric/deprecation.py:22: UserWarning: 'data.DataLoader' is deprecated, use 'loader.DataLoader' instead\n",
      "  warnings.warn(out)\n"
     ]
    }
   ],
   "source": [
    "x=0\n",
    "\n",
    "# Calculate the distance matrix\n",
    "edges = np.zeros((n_nodes, n_nodes, 1))\n",
    "def c_dist(x1, x2):\n",
    "    return ((x1[0] - x2[0]) ** 2 + (x1[1] - x2[1]) ** 2) ** 0.5\n",
    "for i, (x1, y1) in enumerate(node_[x]):\n",
    "    for j, (x2, y2) in enumerate(node_[x]):\n",
    "        d = c_dist((x1, y1), (x2, y2))\n",
    "        edges[i][j][0] = d\n",
    "edges_ = edges.reshape(-1, 1)\n",
    "\n",
    "edges_index = []\n",
    "for i in range(n_nodes):\n",
    "    for j in range(n_nodes):\n",
    "        edges_index.append([i, j])\n",
    "edges_index = torch.LongTensor(edges_index)\n",
    "edges_index = edges_index.transpose(dim0=0, dim1=1)\n",
    "\n",
    "datas = []\n",
    "data = Data(x=torch.from_numpy(node_[x]).float(), edge_index=edges_index, edge_attr=torch.from_numpy(edges_).float(),\n",
    "            demand=torch.tensor(demand_[x]).unsqueeze(-1).float(),\n",
    "            capcity=torch.tensor(capcity_[x]).unsqueeze(-1).float())\n",
    "datas.append(data)\n",
    "\n",
    "data_loder = DataLoader(datas, batch_size=1)\n",
    "\n"
   ]
  },
  {
   "cell_type": "code",
   "execution_count": 24,
   "metadata": {},
   "outputs": [
    {
     "name": "stderr",
     "output_type": "stream",
     "text": [
      "No artists with labels found to put in legend.  Note that artists whose label start with an underscore are ignored when legend() is called with no argument.\n",
      "/var/folders/h8/0wmx2zx90bn60jw8zc1r4qjc0000gn/T/ipykernel_6958/639031459.py:2: MatplotlibDeprecationWarning: The get_cmap function was deprecated in Matplotlib 3.7 and will be removed two minor releases later. Use ``matplotlib.colormaps[name]`` or ``matplotlib.colormaps.get_cmap(obj)`` instead.\n",
      "  base = plt.cm.get_cmap(base_cmap)\n",
      "/var/folders/h8/0wmx2zx90bn60jw8zc1r4qjc0000gn/T/ipykernel_6958/271386343.py:65: DeprecationWarning: Conversion of an array with ndim > 0 to a scalar is deprecated, and will error in future. Ensure you extract a single element from your array before performing this operation. (Deprecated NumPy 1.25.)\n",
      "  int(total_route_demand) if round_demand else total_route_demand,\n"
     ]
    },
    {
     "ename": "ValueError",
     "evalue": "setting an array element with a sequence. The requested array has an inhomogeneous shape after 1 dimensions. The detected shape was (4,) + inhomogeneous part.",
     "output_type": "error",
     "traceback": [
      "\u001b[0;31m---------------------------------------------------------------------------\u001b[0m",
      "\u001b[0;31mValueError\u001b[0m                                Traceback (most recent call last)",
      "Cell \u001b[0;32mIn[24], line 2\u001b[0m\n\u001b[1;32m      1\u001b[0m \u001b[39m#True:Greedy decoding / False:sampling1280\u001b[39;00m\n\u001b[0;32m----> 2\u001b[0m vrp_matplotlib(Greedy\u001b[39m=\u001b[39;49m\u001b[39mFalse\u001b[39;49;00m)\n",
      "Cell \u001b[0;32mIn[8], line 99\u001b[0m, in \u001b[0;36mvrp_matplotlib\u001b[0;34m(Greedy)\u001b[0m\n\u001b[1;32m     97\u001b[0m \u001b[39melse\u001b[39;00m:\n\u001b[1;32m     98\u001b[0m     fig, ax \u001b[39m=\u001b[39m plt\u001b[39m.\u001b[39msubplots(figsize\u001b[39m=\u001b[39m(\u001b[39m10\u001b[39m, \u001b[39m10\u001b[39m))\n\u001b[0;32m---> 99\u001b[0m     plot_vehicle_routes(data, tour, ax,Greedy, visualize_demands\u001b[39m=\u001b[39;49m\u001b[39mFalse\u001b[39;49;00m, demand_scale\u001b[39m=\u001b[39;49m\u001b[39m50\u001b[39;49m, round_demand\u001b[39m=\u001b[39;49m\u001b[39mTrue\u001b[39;49;00m)\n",
      "Cell \u001b[0;32mIn[7], line 80\u001b[0m, in \u001b[0;36mplot_vehicle_routes\u001b[0;34m(data, route, ax1, Greedy, markersize, visualize_demands, demand_scale, round_demand)\u001b[0m\n\u001b[1;32m     78\u001b[0m plt\u001b[39m.\u001b[39mlegend(loc\u001b[39m=\u001b[39m\u001b[39m1\u001b[39m)\n\u001b[1;32m     79\u001b[0m pc_cap \u001b[39m=\u001b[39m PatchCollection(cap_rects, facecolor\u001b[39m=\u001b[39m\u001b[39m'\u001b[39m\u001b[39mwhitesmoke\u001b[39m\u001b[39m'\u001b[39m, alpha\u001b[39m=\u001b[39m\u001b[39m1.0\u001b[39m, edgecolor\u001b[39m=\u001b[39m\u001b[39m'\u001b[39m\u001b[39mlightgray\u001b[39m\u001b[39m'\u001b[39m)\n\u001b[0;32m---> 80\u001b[0m pc_used \u001b[39m=\u001b[39m PatchCollection(used_rects, facecolor\u001b[39m=\u001b[39;49m\u001b[39m'\u001b[39;49m\u001b[39mlightgray\u001b[39;49m\u001b[39m'\u001b[39;49m, alpha\u001b[39m=\u001b[39;49m\u001b[39m1.0\u001b[39;49m, edgecolor\u001b[39m=\u001b[39;49m\u001b[39m'\u001b[39;49m\u001b[39mlightgray\u001b[39;49m\u001b[39m'\u001b[39;49m)\n\u001b[1;32m     81\u001b[0m pc_dem \u001b[39m=\u001b[39m PatchCollection(dem_rects, facecolor\u001b[39m=\u001b[39m\u001b[39m'\u001b[39m\u001b[39mblack\u001b[39m\u001b[39m'\u001b[39m, alpha\u001b[39m=\u001b[39m\u001b[39m1.0\u001b[39m, edgecolor\u001b[39m=\u001b[39m\u001b[39m'\u001b[39m\u001b[39mblack\u001b[39m\u001b[39m'\u001b[39m)\n\u001b[1;32m     83\u001b[0m \u001b[39mif\u001b[39;00m visualize_demands:\n",
      "File \u001b[0;32m~/Code/DRL-and-graph-neural-network-for-routing-problems/vrptest/lib/python3.10/site-packages/matplotlib/collections.py:1901\u001b[0m, in \u001b[0;36mPatchCollection.__init__\u001b[0;34m(self, patches, match_original, **kwargs)\u001b[0m\n\u001b[1;32m   1897\u001b[0m     kwargs[\u001b[39m'\u001b[39m\u001b[39mantialiaseds\u001b[39m\u001b[39m'\u001b[39m] \u001b[39m=\u001b[39m [p\u001b[39m.\u001b[39mget_antialiased() \u001b[39mfor\u001b[39;00m p \u001b[39min\u001b[39;00m patches]\n\u001b[1;32m   1899\u001b[0m \u001b[39msuper\u001b[39m()\u001b[39m.\u001b[39m\u001b[39m__init__\u001b[39m(\u001b[39m*\u001b[39m\u001b[39m*\u001b[39mkwargs)\n\u001b[0;32m-> 1901\u001b[0m \u001b[39mself\u001b[39;49m\u001b[39m.\u001b[39;49mset_paths(patches)\n",
      "File \u001b[0;32m~/Code/DRL-and-graph-neural-network-for-routing-problems/vrptest/lib/python3.10/site-packages/matplotlib/collections.py:1904\u001b[0m, in \u001b[0;36mPatchCollection.set_paths\u001b[0;34m(self, patches)\u001b[0m\n\u001b[1;32m   1903\u001b[0m \u001b[39mdef\u001b[39;00m \u001b[39mset_paths\u001b[39m(\u001b[39mself\u001b[39m, patches):\n\u001b[0;32m-> 1904\u001b[0m     paths \u001b[39m=\u001b[39m [p\u001b[39m.\u001b[39mget_transform()\u001b[39m.\u001b[39mtransform_path(p\u001b[39m.\u001b[39mget_path())\n\u001b[1;32m   1905\u001b[0m              \u001b[39mfor\u001b[39;00m p \u001b[39min\u001b[39;00m patches]\n\u001b[1;32m   1906\u001b[0m     \u001b[39mself\u001b[39m\u001b[39m.\u001b[39m_paths \u001b[39m=\u001b[39m paths\n",
      "File \u001b[0;32m~/Code/DRL-and-graph-neural-network-for-routing-problems/vrptest/lib/python3.10/site-packages/matplotlib/collections.py:1904\u001b[0m, in \u001b[0;36m<listcomp>\u001b[0;34m(.0)\u001b[0m\n\u001b[1;32m   1903\u001b[0m \u001b[39mdef\u001b[39;00m \u001b[39mset_paths\u001b[39m(\u001b[39mself\u001b[39m, patches):\n\u001b[0;32m-> 1904\u001b[0m     paths \u001b[39m=\u001b[39m [p\u001b[39m.\u001b[39;49mget_transform()\u001b[39m.\u001b[39mtransform_path(p\u001b[39m.\u001b[39mget_path())\n\u001b[1;32m   1905\u001b[0m              \u001b[39mfor\u001b[39;00m p \u001b[39min\u001b[39;00m patches]\n\u001b[1;32m   1906\u001b[0m     \u001b[39mself\u001b[39m\u001b[39m.\u001b[39m_paths \u001b[39m=\u001b[39m paths\n",
      "File \u001b[0;32m~/Code/DRL-and-graph-neural-network-for-routing-problems/vrptest/lib/python3.10/site-packages/matplotlib/patches.py:261\u001b[0m, in \u001b[0;36mPatch.get_transform\u001b[0;34m(self)\u001b[0m\n\u001b[1;32m    259\u001b[0m \u001b[39mdef\u001b[39;00m \u001b[39mget_transform\u001b[39m(\u001b[39mself\u001b[39m):\n\u001b[1;32m    260\u001b[0m \u001b[39m    \u001b[39m\u001b[39m\"\"\"Return the `~.transforms.Transform` applied to the `Patch`.\"\"\"\u001b[39;00m\n\u001b[0;32m--> 261\u001b[0m     \u001b[39mreturn\u001b[39;00m \u001b[39mself\u001b[39;49m\u001b[39m.\u001b[39;49mget_patch_transform() \u001b[39m+\u001b[39m artist\u001b[39m.\u001b[39mArtist\u001b[39m.\u001b[39mget_transform(\u001b[39mself\u001b[39m)\n",
      "File \u001b[0;32m~/Code/DRL-and-graph-neural-network-for-routing-problems/vrptest/lib/python3.10/site-packages/matplotlib/patches.py:751\u001b[0m, in \u001b[0;36mRectangle.get_patch_transform\u001b[0;34m(self)\u001b[0m\n\u001b[1;32m    746\u001b[0m \u001b[39mdef\u001b[39;00m \u001b[39mget_patch_transform\u001b[39m(\u001b[39mself\u001b[39m):\n\u001b[1;32m    747\u001b[0m     \u001b[39m# Note: This cannot be called until after this has been added to\u001b[39;00m\n\u001b[1;32m    748\u001b[0m     \u001b[39m# an Axes, otherwise unit conversion will fail. This makes it very\u001b[39;00m\n\u001b[1;32m    749\u001b[0m     \u001b[39m# important to call the accessor method and not directly access the\u001b[39;00m\n\u001b[1;32m    750\u001b[0m     \u001b[39m# transformation member variable.\u001b[39;00m\n\u001b[0;32m--> 751\u001b[0m     bbox \u001b[39m=\u001b[39m \u001b[39mself\u001b[39;49m\u001b[39m.\u001b[39;49mget_bbox()\n\u001b[1;32m    752\u001b[0m     \u001b[39mif\u001b[39;00m \u001b[39mself\u001b[39m\u001b[39m.\u001b[39mrotation_point \u001b[39m==\u001b[39m \u001b[39m'\u001b[39m\u001b[39mcenter\u001b[39m\u001b[39m'\u001b[39m:\n\u001b[1;32m    753\u001b[0m         width, height \u001b[39m=\u001b[39m bbox\u001b[39m.\u001b[39mx1 \u001b[39m-\u001b[39m bbox\u001b[39m.\u001b[39mx0, bbox\u001b[39m.\u001b[39my1 \u001b[39m-\u001b[39m bbox\u001b[39m.\u001b[39my0\n",
      "File \u001b[0;32m~/Code/DRL-and-graph-neural-network-for-routing-problems/vrptest/lib/python3.10/site-packages/matplotlib/patches.py:882\u001b[0m, in \u001b[0;36mRectangle.get_bbox\u001b[0;34m(self)\u001b[0m\n\u001b[1;32m    880\u001b[0m \u001b[39mdef\u001b[39;00m \u001b[39mget_bbox\u001b[39m(\u001b[39mself\u001b[39m):\n\u001b[1;32m    881\u001b[0m \u001b[39m    \u001b[39m\u001b[39m\"\"\"Return the `.Bbox`.\"\"\"\u001b[39;00m\n\u001b[0;32m--> 882\u001b[0m     \u001b[39mreturn\u001b[39;00m transforms\u001b[39m.\u001b[39;49mBbox\u001b[39m.\u001b[39;49mfrom_extents(\u001b[39m*\u001b[39;49m\u001b[39mself\u001b[39;49m\u001b[39m.\u001b[39;49m_convert_units())\n",
      "File \u001b[0;32m~/Code/DRL-and-graph-neural-network-for-routing-problems/vrptest/lib/python3.10/site-packages/matplotlib/transforms.py:829\u001b[0m, in \u001b[0;36mBbox.from_extents\u001b[0;34m(minpos, *args)\u001b[0m\n\u001b[1;32m    813\u001b[0m \u001b[39m@staticmethod\u001b[39m\n\u001b[1;32m    814\u001b[0m \u001b[39mdef\u001b[39;00m \u001b[39mfrom_extents\u001b[39m(\u001b[39m*\u001b[39margs, minpos\u001b[39m=\u001b[39m\u001b[39mNone\u001b[39;00m):\n\u001b[1;32m    815\u001b[0m \u001b[39m    \u001b[39m\u001b[39m\"\"\"\u001b[39;00m\n\u001b[1;32m    816\u001b[0m \u001b[39m    Create a new Bbox from *left*, *bottom*, *right* and *top*.\u001b[39;00m\n\u001b[1;32m    817\u001b[0m \n\u001b[0;32m   (...)\u001b[0m\n\u001b[1;32m    827\u001b[0m \u001b[39m        scales where negative bounds result in floating point errors.\u001b[39;00m\n\u001b[1;32m    828\u001b[0m \u001b[39m    \"\"\"\u001b[39;00m\n\u001b[0;32m--> 829\u001b[0m     bbox \u001b[39m=\u001b[39m Bbox(np\u001b[39m.\u001b[39;49mreshape(args, (\u001b[39m2\u001b[39;49m, \u001b[39m2\u001b[39;49m)))\n\u001b[1;32m    830\u001b[0m     \u001b[39mif\u001b[39;00m minpos \u001b[39mis\u001b[39;00m \u001b[39mnot\u001b[39;00m \u001b[39mNone\u001b[39;00m:\n\u001b[1;32m    831\u001b[0m         bbox\u001b[39m.\u001b[39m_minpos[:] \u001b[39m=\u001b[39m minpos\n",
      "File \u001b[0;32m~/Code/DRL-and-graph-neural-network-for-routing-problems/vrptest/lib/python3.10/site-packages/numpy/core/fromnumeric.py:285\u001b[0m, in \u001b[0;36mreshape\u001b[0;34m(a, newshape, order)\u001b[0m\n\u001b[1;32m    200\u001b[0m \u001b[39m@array_function_dispatch\u001b[39m(_reshape_dispatcher)\n\u001b[1;32m    201\u001b[0m \u001b[39mdef\u001b[39;00m \u001b[39mreshape\u001b[39m(a, newshape, order\u001b[39m=\u001b[39m\u001b[39m'\u001b[39m\u001b[39mC\u001b[39m\u001b[39m'\u001b[39m):\n\u001b[1;32m    202\u001b[0m \u001b[39m    \u001b[39m\u001b[39m\"\"\"\u001b[39;00m\n\u001b[1;32m    203\u001b[0m \u001b[39m    Gives a new shape to an array without changing its data.\u001b[39;00m\n\u001b[1;32m    204\u001b[0m \n\u001b[0;32m   (...)\u001b[0m\n\u001b[1;32m    283\u001b[0m \u001b[39m           [5, 6]])\u001b[39;00m\n\u001b[1;32m    284\u001b[0m \u001b[39m    \"\"\"\u001b[39;00m\n\u001b[0;32m--> 285\u001b[0m     \u001b[39mreturn\u001b[39;00m _wrapfunc(a, \u001b[39m'\u001b[39;49m\u001b[39mreshape\u001b[39;49m\u001b[39m'\u001b[39;49m, newshape, order\u001b[39m=\u001b[39;49morder)\n",
      "File \u001b[0;32m~/Code/DRL-and-graph-neural-network-for-routing-problems/vrptest/lib/python3.10/site-packages/numpy/core/fromnumeric.py:56\u001b[0m, in \u001b[0;36m_wrapfunc\u001b[0;34m(obj, method, *args, **kwds)\u001b[0m\n\u001b[1;32m     54\u001b[0m bound \u001b[39m=\u001b[39m \u001b[39mgetattr\u001b[39m(obj, method, \u001b[39mNone\u001b[39;00m)\n\u001b[1;32m     55\u001b[0m \u001b[39mif\u001b[39;00m bound \u001b[39mis\u001b[39;00m \u001b[39mNone\u001b[39;00m:\n\u001b[0;32m---> 56\u001b[0m     \u001b[39mreturn\u001b[39;00m _wrapit(obj, method, \u001b[39m*\u001b[39;49margs, \u001b[39m*\u001b[39;49m\u001b[39m*\u001b[39;49mkwds)\n\u001b[1;32m     58\u001b[0m \u001b[39mtry\u001b[39;00m:\n\u001b[1;32m     59\u001b[0m     \u001b[39mreturn\u001b[39;00m bound(\u001b[39m*\u001b[39margs, \u001b[39m*\u001b[39m\u001b[39m*\u001b[39mkwds)\n",
      "File \u001b[0;32m~/Code/DRL-and-graph-neural-network-for-routing-problems/vrptest/lib/python3.10/site-packages/numpy/core/fromnumeric.py:45\u001b[0m, in \u001b[0;36m_wrapit\u001b[0;34m(obj, method, *args, **kwds)\u001b[0m\n\u001b[1;32m     43\u001b[0m \u001b[39mexcept\u001b[39;00m \u001b[39mAttributeError\u001b[39;00m:\n\u001b[1;32m     44\u001b[0m     wrap \u001b[39m=\u001b[39m \u001b[39mNone\u001b[39;00m\n\u001b[0;32m---> 45\u001b[0m result \u001b[39m=\u001b[39m \u001b[39mgetattr\u001b[39m(asarray(obj), method)(\u001b[39m*\u001b[39margs, \u001b[39m*\u001b[39m\u001b[39m*\u001b[39mkwds)\n\u001b[1;32m     46\u001b[0m \u001b[39mif\u001b[39;00m wrap:\n\u001b[1;32m     47\u001b[0m     \u001b[39mif\u001b[39;00m \u001b[39mnot\u001b[39;00m \u001b[39misinstance\u001b[39m(result, mu\u001b[39m.\u001b[39mndarray):\n",
      "\u001b[0;31mValueError\u001b[0m: setting an array element with a sequence. The requested array has an inhomogeneous shape after 1 dimensions. The detected shape was (4,) + inhomogeneous part."
     ]
    },
    {
     "data": {
      "image/png": "[encoded data removed]",
      "text/plain": [
       "<Figure size 1000x1000 with 1 Axes>"
      ]
     },
     "metadata": {},
     "output_type": "display_data"
    }
   ],
   "source": [
    "\n",
    "#True:Greedy decoding / False:sampling1280\n",
    "vrp_matplotlib(Greedy=False)"
   ]
  },
  {
   "cell_type": "markdown",
   "metadata": {},
   "source": [
    "### OR-Tools"
   ]
  },
  {
   "cell_type": "code",
   "execution_count": 47,
   "metadata": {},
   "outputs": [],
   "source": [
    "\"\"\"Capacited Vehicles Routing Problem (CVRP).\"\"\"\n",
    "\n",
    "from ortools.constraint_solver import routing_enums_pb2\n",
    "from ortools.constraint_solver import pywrapcp\n",
    "import numpy as np\n",
    "import matplotlib.pyplot as plt\n",
    "from matplotlib.collections import LineCollection"
   ]
  },
  {
   "cell_type": "code",
   "execution_count": 29,
   "metadata": {},
   "outputs": [],
   "source": [
    "node_ = np.loadtxt('VRP/test_data/vrp20_test_data.csv', dtype=float, delimiter=',')\n",
    "# demand_=np.loadtxt('VRP/test_data/vrp20_demand.csv', dtype=float, delimiter=',')\n",
    "demand_=np.loadtxt('VRP/test_data/demand_10.csv', dtype=float, delimiter=';')\n",
    "capcity_=np.loadtxt('VRP/test_data/vrp20_capcity.csv', dtype=float, delimiter=',')"
   ]
  },
  {
   "cell_type": "code",
   "execution_count": 30,
   "metadata": {},
   "outputs": [],
   "source": [
    "node_ = node_[:11]\n",
    "demand_= demand_[:1]\n",
    "capcity_ =capcity_[:1]\n"
   ]
  },
  {
   "cell_type": "code",
   "execution_count": 31,
   "metadata": {},
   "outputs": [
    {
     "name": "stdout",
     "output_type": "stream",
     "text": [
      "[[0, 1, 6, 5, 6, 10, 1, 5, 5, 4, 8], [1, 0, 7, 5, 7, 10, 1, 6, 6, 5, 9], [6, 7, 0, 10, 3, 6, 7, 6, 1, 3, 2], [5, 5, 10, 0, 11, 9, 6, 4, 9, 7, 10], [6, 7, 3, 11, 0, 9, 6, 8, 3, 5, 5], [10, 10, 6, 9, 9, 0, 10, 6, 6, 6, 5], [1, 1, 7, 6, 6, 10, 0, 5, 6, 5, 8], [5, 6, 6, 4, 8, 6, 5, 0, 5, 3, 6], [5, 6, 1, 9, 3, 6, 6, 5, 0, 2, 2], [4, 5, 3, 7, 5, 6, 5, 3, 2, 0, 4], [8, 9, 2, 10, 5, 5, 8, 6, 2, 4, 0]]\n"
     ]
    }
   ],
   "source": [
    "import numpy as np\n",
    "\n",
    "coordinates = node_\n",
    "\n",
    "def euclidean_distance(x1, x2):\n",
    "    return np.sqrt(np.sum((x1 - x2)**2))\n",
    "\n",
    "n = coordinates.shape[0]\n",
    "distance_matrix = np.zeros((n,n))\n",
    "\n",
    "for i in range(n):\n",
    "    for j in range(n):\n",
    "        distance_matrix[i,j] = euclidean_distance(coordinates[i], coordinates[j])\n",
    "\n",
    "# Округлите значения до целых чисел\n",
    "rounded_distance_matrix = np.round(distance_matrix * 10).astype(int)\n",
    "\n",
    "# Преобразуйте матрицу в список списков\n",
    "distance_matrix = rounded_distance_matrix.tolist()\n",
    "# distance_matrix_list = distance_matrix.tolist()\n",
    "print(distance_matrix)\n"
   ]
  },
  {
   "cell_type": "code",
   "execution_count": 50,
   "metadata": {},
   "outputs": [
    {
     "name": "stdout",
     "output_type": "stream",
     "text": [
      "Objective: 46\n",
      "Route for vehicle 0:\n",
      " 0 Load(0) ->  9 Load(3) ->  8 Load(12) ->  4 Load(21) ->  0 Load(21)\n",
      "Distance of the route: 15m\n",
      "Load of the route: 21\n",
      "\n",
      "Route for vehicle 1:\n",
      " 0 Load(0) ->  3 Load(8) ->  7 Load(13) ->  5 Load(21) ->  10 Load(23) ->  2 Load(28) ->  0 Load(28)\n",
      "Distance of the route: 28m\n",
      "Load of the route: 28\n",
      "\n",
      "Route for vehicle 2:\n",
      " 0 Load(0) ->  6 Load(9) ->  1 Load(14) ->  0 Load(14)\n",
      "Distance of the route: 3m\n",
      "Load of the route: 14\n",
      "\n",
      "Total distance of all routes: 46m\n",
      "Total load of all routes: 63\n"
     ]
    }
   ],
   "source": [
    "\"\"\"Capacited Vehicles Routing Problem (CVRP).\"\"\"\n",
    "\n",
    "def create_data_model():\n",
    "    \"\"\"Stores the data for the problem.\"\"\"\n",
    "    data = {}\n",
    "    data[\"distance_matrix\"] = distance_matrix\n",
    "    data[\"demands\"] = [0, 5, 5, 8, 9, 8, 9, 5, 9, 3, 2]\n",
    "    data[\"vehicle_capacities\"] = [30, 30, 30]\n",
    "    data[\"num_vehicles\"] = 3\n",
    "    data[\"depot\"] = 0\n",
    "    return data\n",
    "\n",
    "def print_solution(data, manager, routing, solution):\n",
    "    \"\"\"Prints solution on console.\"\"\"\n",
    "    print(f\"Objective: {solution.ObjectiveValue()}\")\n",
    "    total_distance = 0\n",
    "    total_load = 0\n",
    "    for vehicle_id in range(data[\"num_vehicles\"]):\n",
    "        index = routing.Start(vehicle_id)\n",
    "        plan_output = f\"Route for vehicle {vehicle_id}:\\n\"\n",
    "        route_distance = 0\n",
    "        route_load = 0\n",
    "        while not routing.IsEnd(index):\n",
    "            node_index = manager.IndexToNode(index)\n",
    "            route_load += data[\"demands\"][node_index]\n",
    "            plan_output += f\" {node_index} Load({route_load}) -> \"\n",
    "            previous_index = index\n",
    "            index = solution.Value(routing.NextVar(index))\n",
    "            route_distance += routing.GetArcCostForVehicle(\n",
    "                previous_index, index, vehicle_id\n",
    "            )\n",
    "        plan_output += f\" {manager.IndexToNode(index)} Load({route_load})\\n\"\n",
    "        plan_output += f\"Distance of the route: {route_distance}m\\n\"\n",
    "        plan_output += f\"Load of the route: {route_load}\\n\"\n",
    "        print(plan_output)\n",
    "        total_distance += route_distance\n",
    "        total_load += route_load\n",
    "    print(f\"Total distance of all routes: {total_distance}m\")\n",
    "    print(f\"Total load of all routes: {total_load}\")\n",
    "\n",
    "\n",
    "def main():\n",
    "    \"\"\"Solve the CVRP problem.\"\"\"\n",
    "    # Instantiate the data problem.\n",
    "    data = create_data_model()\n",
    "\n",
    "    # Create the routing index manager.\n",
    "    manager = pywrapcp.RoutingIndexManager(\n",
    "        len(data[\"distance_matrix\"]), data[\"num_vehicles\"], data[\"depot\"]\n",
    "    )\n",
    "\n",
    "    # Create Routing Model.\n",
    "    routing = pywrapcp.RoutingModel(manager)\n",
    "\n",
    "    # Create and register a transit callback.\n",
    "    def distance_callback(from_index, to_index):\n",
    "        \"\"\"Returns the distance between the two nodes.\"\"\"\n",
    "        # Convert from routing variable Index to distance matrix NodeIndex.\n",
    "        from_node = manager.IndexToNode(from_index)\n",
    "        to_node = manager.IndexToNode(to_index)\n",
    "        return data[\"distance_matrix\"][from_node][to_node]\n",
    "\n",
    "    transit_callback_index = routing.RegisterTransitCallback(distance_callback)\n",
    "\n",
    "    # Define cost of each arc.\n",
    "    routing.SetArcCostEvaluatorOfAllVehicles(transit_callback_index)\n",
    "\n",
    "    # Add Capacity constraint.\n",
    "    def demand_callback(from_index):\n",
    "        \"\"\"Returns the demand of the node.\"\"\"\n",
    "        # Convert from routing variable Index to demands NodeIndex.\n",
    "        from_node = manager.IndexToNode(from_index)\n",
    "        return data[\"demands\"][from_node]\n",
    "\n",
    "    demand_callback_index = routing.RegisterUnaryTransitCallback(demand_callback)\n",
    "    routing.AddDimensionWithVehicleCapacity(\n",
    "        demand_callback_index,\n",
    "        0,  # null capacity slack\n",
    "        data[\"vehicle_capacities\"],  # vehicle maximum capacities\n",
    "        True,  # start cumul to zero\n",
    "        \"Capacity\",\n",
    "    )\n",
    "  \n",
    "    # Setting first solution heuristic.\n",
    "    search_parameters = pywrapcp.DefaultRoutingSearchParameters()\n",
    "    search_parameters.first_solution_strategy = (\n",
    "        routing_enums_pb2.FirstSolutionStrategy.PATH_CHEAPEST_ARC\n",
    "    )\n",
    "    search_parameters.local_search_metaheuristic = (\n",
    "        routing_enums_pb2.LocalSearchMetaheuristic.GUIDED_LOCAL_SEARCH\n",
    "    )\n",
    "    search_parameters.time_limit.FromSeconds(1)\n",
    "\n",
    "    # Solve the problem.\n",
    "    solution = routing.SolveWithParameters(search_parameters)\n",
    "\n",
    "    # Print solution on console.\n",
    "    if solution:\n",
    "        print_solution(data, manager, routing, solution)\n",
    "\n",
    "if __name__ == \"__main__\":\n",
    "    main()"
   ]
  }
 ],
 "metadata": {
  "kernelspec": {
   "display_name": "Python 3.10.11 ('vrptest': venv)",
   "language": "python",
   "name": "python3"
  },
  "language_info": {
   "codemirror_mode": {
    "name": "ipython",
    "version": 3
   },
   "file_extension": ".py",
   "mimetype": "text/x-python",
   "name": "python",
   "nbconvert_exporter": "python",
   "pygments_lexer": "ipython3",
   "version": "3.10.11"
  },
  "orig_nbformat": 4,
  "vscode": {
   "interpreter": {
    "hash": "08937daeaa3b9cb2c169d4b5e7011e9e651c8b2cb2f9ea96272765da9235f9f3"
   }
  }
 },
 "nbformat": 4,
 "nbformat_minor": 2
}
