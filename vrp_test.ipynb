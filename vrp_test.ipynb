{
 "cells": [
  {
   "cell_type": "markdown",
   "metadata": {},
   "source": [
    "### VRP"
   ]
  },
  {
   "cell_type": "code",
   "execution_count": 11,
   "metadata": {},
   "outputs": [],
   "source": [
    "import torch\n",
    "import networkx as nx\n",
    "import os\n",
    "import numpy as np\n",
    "from torch_geometric.data import Data, DataLoader\n",
    "from VRP.creat_vrp import reward1,creat_instance\n",
    "from VRP.VRP_Actor import Model"
   ]
  },
  {
   "cell_type": "code",
   "execution_count": 12,
   "metadata": {},
   "outputs": [],
   "source": [
    "device = torch.device('cuda' if torch.cuda.is_available() else 'cpu')\n",
    "\n",
    "def rollout(model, dataset,n_nodes):\n",
    "    model.eval()\n",
    "    def eval_model_bat(bat):\n",
    "        with torch.no_grad():\n",
    "            cost, _ = model(bat, n_nodes * 2,True)\n",
    "            cost = reward1(bat.x,cost.detach(), n_nodes)\n",
    "        return cost.cpu()\n",
    "    totall_cost = torch.cat([eval_model_bat(bat.to(device))for bat in dataset], 0)\n",
    "    return totall_cost\n",
    "\n",
    "def evaliuate(valid_loder,n_node):\n",
    "    folder = 'trained'\n",
    "\n",
    "    agent = Model(3, 128, 1, 16, conv_laysers=4).to(device)\n",
    "    agent.to(device)\n",
    "\n",
    "    filepath = os.path.join(folder, '%s' % n_node)\n",
    "\n",
    "    if os.path.exists(filepath):\n",
    "        path1 = os.path.join(filepath, 'actor.pt')\n",
    "        agent.load_state_dict(torch.load(path1, device))\n",
    "    cost = rollout(agent, valid_loder, n_node)\n",
    "    cost = cost.mean()\n",
    "    print('Problem:VRP''%s' % n_node,'/ Average distance:',cost.item())\n",
    "\n",
    "    cost1=cost.min()\n",
    "    return cost,cost1\n",
    "\n"
   ]
  },
  {
   "cell_type": "code",
   "execution_count": 13,
   "metadata": {},
   "outputs": [],
   "source": [
    "\n",
    "datas = []\n",
    "n_node = 21\n",
    "if n_node==21 or n_node==51 or n_node==101:\n",
    "    node_ = np.loadtxt('VRP/test_data/vrp{}_test_data.csv'.format(n_node-1), dtype=float, delimiter=',')\n",
    "    demand_ = np.loadtxt('VRP/test_data/vrp{}_demand.csv'.format(n_node-1), dtype=float, delimiter=',')\n",
    "    capcity_ = np.loadtxt('VRP/test_data/vrp{}_capcity.csv'.format(n_node-1), dtype=float, delimiter=',')\n",
    "    batch_size=128\n",
    "else:\n",
    "    print('Please enter 21, 51 or 101')\n",
    "node_ = node_.reshape(-1, n_node, 2)\n",
    "# Calculate the distance matrix\n",
    "def c_dist(x1,x2):\n",
    "    return ((x1[0]-x2[0])**2+(x1[1]-x2[1])**2)**0.5\n",
    "#edges = torch.zeros(n_nodes,n_nodes)\n",
    "\n",
    "data_size = node_.shape[0]\n",
    "\n",
    "edges = np.zeros((data_size, n_node, n_node, 1))\n",
    "for k, data in enumerate(node_):\n",
    "    for i, (x1, y1) in enumerate(data):\n",
    "        for j, (x2, y2) in enumerate(data):\n",
    "            d = c_dist((x1, y1), (x2, y2))\n",
    "            edges[k][i][j][0] = d\n",
    "edges_ = edges.reshape(data_size, -1, 1)\n",
    "\n",
    "edges_index = []\n",
    "for i in range(n_node):\n",
    "    for j in range(n_node):\n",
    "        edges_index.append([i, j])\n",
    "edges_index = torch.LongTensor(edges_index)\n",
    "edges_index = edges_index.transpose(dim0=0, dim1=1)\n",
    "\n",
    "for i in range(2): #номер датафрейма(вроде решается для всех сразу)\n",
    "    data = Data(x=torch.from_numpy(node_[i]).float(), edge_index=edges_index, edge_attr=torch.from_numpy(edges_[i]).float(),\n",
    "                demand=torch.tensor(demand_[i]).unsqueeze(-1).float(),\n",
    "                capcity=torch.tensor(capcity_[i]).unsqueeze(-1).float())\n",
    "    datas.append(data)\n",
    "dl = DataLoader(datas, batch_size=1)\n"
   ]
  },
  {
   "cell_type": "code",
   "execution_count": 14,
   "metadata": {},
   "outputs": [
    {
     "name": "stdout",
     "output_type": "stream",
     "text": [
      "Problem:VRP21 / Average distance: 13.29855728149414\n"
     ]
    },
    {
     "data": {
      "text/plain": [
       "(tensor(13.2986), tensor(13.2986))"
      ]
     },
     "execution_count": 14,
     "metadata": {},
     "output_type": "execute_result"
    }
   ],
   "source": [
    "\n",
    "evaliuate(dl,n_node)"
   ]
  },
  {
   "cell_type": "markdown",
   "metadata": {},
   "source": [
    "### matplotlib"
   ]
  },
  {
   "cell_type": "code",
   "execution_count": 4,
   "metadata": {},
   "outputs": [],
   "source": [
    "import os\n",
    "import numpy as np\n",
    "import torch\n",
    "from VRP.creat_vrp import reward1\n",
    "\n",
    "from torch_geometric.data import Data,DataLoader\n",
    "from VRP.VRP_Actor import Model\n",
    "from matplotlib import pyplot as plt\n",
    "from matplotlib.collections import PatchCollection\n",
    "from matplotlib.patches import Rectangle\n",
    "\n",
    "device = torch.device('cuda' if torch.cuda.is_available() else 'cpu')"
   ]
  },
  {
   "cell_type": "code",
   "execution_count": 5,
   "metadata": {},
   "outputs": [],
   "source": [
    "def discrete_cmap(N, base_cmap=None):\n",
    "    base = plt.cm.get_cmap(base_cmap)\n",
    "    color_list = base(np.linspace(0, 1, N))\n",
    "    cmap_name = base.name + str(N)\n",
    "    return base.from_list(cmap_name, color_list, N)"
   ]
  },
  {
   "cell_type": "code",
   "execution_count": 6,
   "metadata": {},
   "outputs": [],
   "source": [
    "def plot_vehicle_routes(data, route, ax1,Greedy, markersize=5, visualize_demands=False, demand_scale=1, round_demand=False):\n",
    "\n",
    "    plt.rc('font', family='Times New Roman', size=10)\n",
    "\n",
    "    routes = [r[r != 0] for r in np.split(route.cpu().numpy(), np.where(route.cpu().numpy() == 0)[0]) if (r != 0).any()]\n",
    "    print(routes)\n",
    "    depot = data.x[0].cpu().numpy()\n",
    "    locs = data.x[1:].cpu().numpy()\n",
    "    demands = data.demand.cpu().numpy()*10\n",
    "    demands=demands[1:]\n",
    "\n",
    "    capacity = data.capcity*10\n",
    "\n",
    "    x_dep, y_dep = depot\n",
    "    ax1.plot(x_dep, y_dep, 'sk', markersize=markersize * 4)\n",
    "    ax1.set_xlim(0, 1)\n",
    "    ax1.set_ylim(0, 1)\n",
    "\n",
    "    legend = ax1.legend(loc='upper center')\n",
    "\n",
    "    cmap = discrete_cmap(len(routes) + 2, 'nipy_spectral')\n",
    "    dem_rects = []\n",
    "    used_rects = []\n",
    "    cap_rects = []\n",
    "    qvs = []\n",
    "    total_dist = 0\n",
    "    for veh_number, r in enumerate(routes):\n",
    "        color = cmap(len(routes) - veh_number)  # Invert to have in rainbow order\n",
    "\n",
    "        route_demands = demands[r - 1]\n",
    "        coords = locs[r - 1, :]\n",
    "        xs, ys = coords.transpose()\n",
    "\n",
    "        total_route_demand = sum(route_demands)\n",
    "        #assert total_route_demand <= capacity\n",
    "        if not visualize_demands:\n",
    "            ax1.plot(xs, ys, 'o', mfc=color, markersize=markersize, markeredgewidth=0.0)\n",
    "\n",
    "        dist = 0\n",
    "        x_prev, y_prev = x_dep, y_dep\n",
    "        cum_demand = 0\n",
    "        for (x, y), d in zip(coords, route_demands):\n",
    "            dist += np.sqrt((x - x_prev) ** 2 + (y - y_prev) ** 2)\n",
    "            cap_rects.append(Rectangle((x, y), 0.01, 0.1))\n",
    "            used_rects.append(Rectangle((x, y), 0.01, 0.1 * total_route_demand / capacity))\n",
    "            dem_rects.append(Rectangle((x, y + 0.1 * cum_demand / capacity), 0.01, 0.1 * d / capacity))\n",
    "\n",
    "            x_prev, y_prev = x, y\n",
    "            cum_demand += d\n",
    "\n",
    "        dist += np.sqrt((x_dep - x_prev) ** 2 + (y_dep - y_prev) ** 2)\n",
    "        total_dist += dist\n",
    "        qv = ax1.quiver(\n",
    "            xs[:-1],\n",
    "            ys[:-1],\n",
    "            xs[1:] - xs[:-1],\n",
    "            ys[1:] - ys[:-1],\n",
    "            scale_units='xy',\n",
    "            angles='xy',\n",
    "            scale=1,\n",
    "            color=color,\n",
    "            label='R{}, N({}), C {} / {}, D {:.2f}'.format(\n",
    "                veh_number,\n",
    "                len(r),\n",
    "                int(total_route_demand) if round_demand else total_route_demand,\n",
    "                int(capacity) if round_demand else capacity,\n",
    "                dist\n",
    "            )\n",
    "        )\n",
    "\n",
    "        qvs.append(qv)\n",
    "    if Greedy:\n",
    "        ax1.set_title('Greedy,{} routes, total distance {:.2f}'.format(len(routes), total_dist), family='Times New Roman',size=20)\n",
    "    else:\n",
    "        ax1.set_title('Sampling1280,{} routes, total distance {:.2f}'.format(len(routes), total_dist), family='Times New Roman',size=20)\n",
    "\n",
    "    ax1.legend(handles=qvs)\n",
    "    plt.legend(loc=1)\n",
    "    pc_cap = PatchCollection(cap_rects, facecolor='whitesmoke', alpha=1.0, edgecolor='lightgray')\n",
    "    pc_used = PatchCollection(used_rects, facecolor='lightgray', alpha=1.0, edgecolor='lightgray')\n",
    "    pc_dem = PatchCollection(dem_rects, facecolor='black', alpha=1.0, edgecolor='black')\n",
    "\n",
    "    if visualize_demands:\n",
    "        ax1.add_collection(pc_cap)\n",
    "        ax1.add_collection(pc_used)\n",
    "        ax1.add_collection(pc_dem)\n",
    "    plt.show()\n",
    "    #plt.savefig(\"./temp{}.png\".format(54), dpi=600, bbox_inches='tight')\n"
   ]
  },
  {
   "cell_type": "code",
   "execution_count": 262,
   "metadata": {},
   "outputs": [],
   "source": [
    "def get_orders_by_date(date, daily_orders, GNN):\n",
    "    if GNN == True:\n",
    "        try:\n",
    "            orders = daily_orders.loc[date]\n",
    "            demand = np.array(orders)\n",
    "            # demand[demand== 0] = 500\n",
    "            demand[0] = 0\n",
    "            demand = demand/1000\n",
    "            float_array = demand.astype(float)\n",
    "            float_array = np.round(float_array, 3)\n",
    "            return float_array\n",
    "        except KeyError:\n",
    "            return np.array([])  # Если дата не найдена, возвращаем пустой список\n",
    "    else:\n",
    "        try:\n",
    "            orders = daily_orders.loc[date]\n",
    "            orders[0] = 0\n",
    "            return orders.tolist()\n",
    "        except KeyError:\n",
    "            return []  # Если дата не найдена, возвращаем пустой список"
   ]
  },
  {
   "cell_type": "code",
   "execution_count": 229,
   "metadata": {},
   "outputs": [
    {
     "data": {
      "text/plain": [
       "array([0.   , 0.458, 0.462, 0.508, 0.705, 0.27 , 0.677, 0.5  , 0.545,\n",
       "       0.637, 0.658, 0.703, 0.548, 0.466, 0.408, 0.58 , 0.669, 0.71 ,\n",
       "       0.521, 0.881, 0.781, 0.749, 0.808, 0.815, 0.963, 1.001, 0.836,\n",
       "       0.54 , 0.847, 1.035, 0.635, 0.917, 0.865, 0.62 , 0.724, 0.663,\n",
       "       0.954, 0.643, 0.339, 0.565])"
      ]
     },
     "execution_count": 229,
     "metadata": {},
     "output_type": "execute_result"
    }
   ],
   "source": [
    "import pandas as pd\n",
    "example_data_path = \"./VRP/exp_data/\"\n",
    "demands = pd.read_csv(os.path.join(example_data_path, \"second_scenario.csv\"))\n",
    "demands.rename(columns={'Unnamed: 0': 'date'}, inplace=True)\n",
    "# Предположим, что ваш DataFrame называется orders_df\n",
    "df = demands\n",
    "# Преобразуем столбец 'date' в datetime\n",
    "df['date'] = pd.to_datetime(df['date'])\n",
    "\n",
    "# Устанавливаем 'date' в качестве индекса\n",
    "df.set_index('date', inplace=True)\n",
    "\n",
    "# Агрегируем данные по дням и суммируем заказы\n",
    "daily_orders = df.resample('D').sum()\n",
    "\n",
    "\n",
    "input_date = '2023-08-20'  # Замените на нужную дату\n",
    "demand = get_orders_by_date(input_date, daily_orders, GNN = True)\n",
    "demand\n"
   ]
  },
  {
   "cell_type": "code",
   "execution_count": 157,
   "metadata": {},
   "outputs": [
    {
     "data": {
      "text/plain": [
       "array([0. , 0.2, 0.8, 0.2, 0.5, 0.9, 0.9, 0.4, 0.7, 0.1, 0.1, 0.8, 0.3,\n",
       "       0.9, 0.8, 0.3, 0.8, 0.4, 0.9, 0.3, 0.6, 0.2, 0.5, 0.6, 0.6, 0.9,\n",
       "       0.2, 0.1, 0.3, 0.3, 0.4, 0.4, 0.7, 0.2, 0.8, 0.3, 0.6, 0.8, 0.2,\n",
       "       0.6])"
      ]
     },
     "execution_count": 157,
     "metadata": {},
     "output_type": "execute_result"
    }
   ],
   "source": [
    "\n",
    "demand_=np.loadtxt('VRP/test_data/vrp50_demand.csv', dtype=float, delimiter=',')\n",
    "demand_= demand_[:1]\n",
    "demand_ = demand_[0][:40]\n",
    "demand_"
   ]
  },
  {
   "cell_type": "code",
   "execution_count": 263,
   "metadata": {},
   "outputs": [
    {
     "name": "stdout",
     "output_type": "stream",
     "text": [
      "Problem:VRP40 / Average distance: 16.64761\n",
      "[array([15, 11, 26, 38, 13, 31, 29, 16, 22, 30, 12], dtype=int64), array([ 3,  6,  8,  9, 17,  1,  7, 25], dtype=int64), array([37, 23,  5], dtype=int64), array([20, 10, 34, 14, 21, 32, 19,  4, 24], dtype=int64), array([35, 39, 28,  2], dtype=int64), array([18, 27, 33, 36], dtype=int64)]\n",
      "_______________\n",
      "Маршрут 0, Груз на маршруте - [7536.], Количество посещаемых узлов - 11\n",
      "Маршрут 1, Груз на маршруте - [4536.0005], Количество посещаемых узлов - 8\n",
      "Маршрут 2, Груз на маршруте - [1727.9999], Количество посещаемых узлов - 3\n",
      "Маршрут 3, Груз на маршруте - [6734.], Количество посещаемых узлов - 9\n",
      "Маршрут 4, Груз на маршруте - [2536.9998], Количество посещаемых узлов - 4\n",
      "Маршрут 5, Груз на маршруте - [2635.0002], Количество посещаемых узлов - 4\n",
      "Total demands[25706.]\n"
     ]
    }
   ],
   "source": [
    "Greedy=False\n",
    "n_nodes = 40\n",
    "actor = 21\n",
    "\n",
    "# node_ = np.loadtxt('VRP/test_data/vrp50_test_data.csv', dtype=float, delimiter=',')\n",
    "# # demand_=np.loadtxt('VRP/test_data/vrp50_demand.csv', dtype=float, delimiter=',')\n",
    "# capcity_=np.loadtxt('VRP/test_data/vrp50_capcity.csv', dtype=float, delimiter=',')\n",
    "\n",
    "# demand = get_orders_by_date(input_date, daily_orders, array = True)\n",
    "# demand_ = demand[0][:n_nodes]\n",
    "# demand_[demand_ == 0] = 500\n",
    "# demand_=demand_/1000\n",
    "# demand_ = np.round(demand_, 1)\n",
    "\n",
    "# node_ = node_[:n_nodes]\n",
    "\n",
    "# capcity_ = np.array([5.]) #настройка вместимости транспорта\n",
    "\n",
    "node_ = np.loadtxt('VRP/test_data/vrp50_test_data.csv', dtype=float, delimiter=',')\n",
    "node_ = node_[:n_nodes]\n",
    "\n",
    "# demand_=np.loadtxt('VRP/test_data/vrp50_demand.csv', dtype=float, delimiter=',')\n",
    "# demand_= demand_[:1]\n",
    "# demand_ = demand_[0][:n_nodes]\n",
    "input_date = '2023-08-20' \n",
    "demand_ = get_orders_by_date(input_date, daily_orders, GNN = True)\n",
    "\n",
    "capcity_ = np.array([8.]) #настройка вместимости транспорта\n",
    "\n",
    "node_,demand_=node_.reshape(-1,n_nodes,2),demand_.reshape(-1,n_nodes)\n",
    "\n",
    "# data_size = node_.shape[0]\n",
    "# print(data_size)\n",
    "# x=np.random.randint(1,data_size)\n",
    "\n",
    "x=0 # выбираем набор данных\n",
    "\n",
    "# Calculate the distance matrix\n",
    "edges = np.zeros((n_nodes, n_nodes, 1))\n",
    "def c_dist(x1, x2):\n",
    "    # return ((x1[0] - x2[0]) ** 2 + (x1[1] - x2[1]) ** 2) ** 0.5\n",
    "    return ((x1[0] - x2[0]) ** 2 + (x1[1] - x2[1]) ** 2) ** 0.5\n",
    "for i, (x1, y1) in enumerate(node_[x]):\n",
    "    for j, (x2, y2) in enumerate(node_[x]):\n",
    "        d = c_dist((x1, y1), (x2, y2))\n",
    "        edges[i][j][0] = d\n",
    "edges_ = edges.reshape(-1, 1)\n",
    "# edges_ = np.round(edges_).astype(int)\n",
    "\n",
    "edges_index = []\n",
    "for i in range(n_nodes):\n",
    "    for j in range(n_nodes):\n",
    "        edges_index.append([i, j])\n",
    "edges_index = torch.LongTensor(edges_index)\n",
    "edges_index = edges_index.transpose(dim0=0, dim1=1)\n",
    "\n",
    "datas = []\n",
    "data = Data(x=torch.from_numpy(node_[x]).float(), edge_index=edges_index, edge_attr=torch.from_numpy(edges_).float(),\n",
    "            demand=torch.tensor(demand_[x]).unsqueeze(-1).float(),\n",
    "            capcity=torch.tensor(capcity_[x]).unsqueeze(-1).float())\n",
    "datas.append(data)\n",
    "\n",
    "data_loder = DataLoader(datas, batch_size=1)\n",
    "\n",
    "\n",
    "agent = Model(3, 128, 1, 16, conv_laysers=4).to(device)\n",
    "agent.to(device)\n",
    "folder = 'trained'\n",
    "filepath = os.path.join(folder, '%s' % actor)\n",
    "\n",
    "if os.path.exists(filepath):\n",
    "    path1 = os.path.join(filepath, 'actor.pt')\n",
    "    agent.load_state_dict(torch.load(path1, device))\n",
    "if Greedy:\n",
    "    batch = next(iter(data_loder))\n",
    "    batch.to(device)\n",
    "    agent.eval()\n",
    "    #-------------------------------------------------------------------------------------------Greedy\n",
    "    with torch.no_grad():\n",
    "        tour, _ = agent(batch, n_nodes * 2,True)\n",
    "        #cost = reward1(batch.x, tour.detach(), n_nodes)\n",
    "        #print(cost)\n",
    "        #print(tour)\n",
    "#-------------------------------------------------------------------------------------------sampling1280\n",
    "else:\n",
    "    datas_ = []\n",
    "    batch_size1 = 128  # sampling batch_size\n",
    "    for y in range(1280):\n",
    "        data = Data(x=torch.from_numpy(node_[x]).float(), edge_index=edges_index,\n",
    "                    edge_attr=torch.from_numpy(edges_).float(),\n",
    "                    demand=torch.tensor(demand_[x]).unsqueeze(-1).float(),\n",
    "                    capcity=torch.tensor(capcity_[x]).unsqueeze(-1).float())\n",
    "        datas_.append(data)\n",
    "    dl = DataLoader(datas_, batch_size=batch_size1)\n",
    "\n",
    "    min_tour=[]\n",
    "    min_cost=100\n",
    "    T=1.2#Temperature hyperparameters\n",
    "    for batch in dl:\n",
    "        with torch.no_grad():\n",
    "            batch.to(device)\n",
    "            tour1, _ = agent(batch, n_nodes * 2,False, T)\n",
    "            cost = reward1(batch.x, tour1.detach(), n_nodes)\n",
    "            id = np.array(cost.cpu()).argmin()\n",
    "            m_cost=np.array(cost.cpu()).min()\n",
    "            tour1=tour1.reshape(batch_size1,-1)\n",
    "            if m_cost<min_cost:\n",
    "                min_cost=m_cost\n",
    "                min_tour=tour1[id]\n",
    "\n",
    "    tour=min_tour.unsqueeze(-2)\n",
    "\n",
    "print('Problem:VRP''%s' % n_nodes,'/ Average distance:', min_cost)\n",
    "for i, (data, tour) in enumerate(zip(dl, tour)):\n",
    "    routes = [r[r != 0] for r in np.split(tour.cpu().numpy(), np.where(tour.cpu().numpy() == 0)[0]) if (r != 0).any()]\n",
    "    print(routes)\n",
    "\n",
    "print('_______________')\n",
    "\n",
    "depot = data.x[0].cpu().numpy()\n",
    "locs = data.x[1:].cpu().numpy()\n",
    "demands = data.demand.cpu().numpy()\n",
    "demands=demands[1:]\n",
    "total = 0\n",
    "for veh_number, r in enumerate(routes):\n",
    "    route_demands = demands[r - 1]\n",
    "    coords = locs[r - 1, :]\n",
    "    xs, ys = coords.transpose()\n",
    "    total_route_demand = sum(route_demands)\n",
    "    total += total_route_demand*1000\n",
    "    print(f'Маршрут {veh_number}, Груз на маршруте - {total_route_demand*1000}, Количество посещаемых узлов - {len(r)}')\n",
    "print('Total demands''%s' % total)\n",
    "\n",
    "# #--------------------------------------------------------------------------------------------\n",
    "# for i, (data, tour) in enumerate(zip(data_loder, tour)):\n",
    "#     if Greedy:\n",
    "#         print(data.x,data.demand,tour)\n",
    "#         fig, ax = plt.subplots(figsize=(10, 10))\n",
    "#         plot_vehicle_routes(data, tour, ax,Greedy, visualize_demands=False, demand_scale=20, round_demand=True)\n",
    "#     else:\n",
    "#         fig, ax = plt.subplots(figsize=(10, 10))\n",
    "#         plot_vehicle_routes(data, tour, ax,Greedy, visualize_demands=False, demand_scale=50, round_demand=True)"
   ]
  },
  {
   "cell_type": "markdown",
   "metadata": {},
   "source": [
    "### OR-Tools"
   ]
  },
  {
   "cell_type": "code",
   "execution_count": 189,
   "metadata": {},
   "outputs": [],
   "source": [
    "\"\"\"Capacited Vehicles Routing Problem (CVRP).\"\"\"\n",
    "\n",
    "from ortools.constraint_solver import routing_enums_pb2\n",
    "from ortools.constraint_solver import pywrapcp\n",
    "import numpy as np\n",
    "import matplotlib.pyplot as plt\n",
    "from matplotlib.collections import LineCollection"
   ]
  },
  {
   "cell_type": "code",
   "execution_count": 233,
   "metadata": {},
   "outputs": [
    {
     "name": "stderr",
     "output_type": "stream",
     "text": [
      "C:\\Users\\skitl\\AppData\\Local\\Temp\\ipykernel_7296\\3871925438.py:17: FutureWarning: Series.__setitem__ treating keys as positions is deprecated. In a future version, integer keys will always be treated as labels (consistent with DataFrame behavior). To set a value by position, use `ser.iloc[pos] = value`\n",
      "  orders[0] = 0\n"
     ]
    }
   ],
   "source": [
    "node_ = np.loadtxt('VRP/test_data/vrp50_test_data.csv', dtype=float, delimiter=',')\n",
    "node_ = node_[:n_nodes]\n",
    "\n",
    "input_date = '2023-08-20' \n",
    "demand = get_orders_by_date(input_date, daily_orders, GNN = False)"
   ]
  },
  {
   "cell_type": "code",
   "execution_count": 242,
   "metadata": {},
   "outputs": [
    {
     "name": "stdout",
     "output_type": "stream",
     "text": [
      "[[0.    0.458 0.462 0.508 0.705 0.27  0.677 0.5   0.545 0.637 0.658 0.703\n",
      "  0.548 0.466 0.408 0.58  0.669 0.71  0.521 0.881 0.781 0.749 0.808 0.815\n",
      "  0.963 1.001 0.836 0.54  0.847 1.035 0.635 0.917 0.865 0.62  0.724 0.663\n",
      "  0.954 0.643 0.339 0.565]]\n"
     ]
    }
   ],
   "source": [
    "print(demand_)"
   ]
  },
  {
   "cell_type": "code",
   "execution_count": 243,
   "metadata": {},
   "outputs": [
    {
     "name": "stdout",
     "output_type": "stream",
     "text": [
      "[0, 458, 462, 508, 705, 270, 677, 0, 545, 637, 658, 703, 548, 466, 408, 580, 669, 710, 521, 881, 781, 749, 808, 815, 963, 1001, 836, 540, 847, 1035, 635, 917, 865, 620, 724, 663, 954, 643, 339, 565]\n"
     ]
    }
   ],
   "source": [
    "print(demand)"
   ]
  },
  {
   "cell_type": "code",
   "execution_count": 244,
   "metadata": {},
   "outputs": [
    {
     "data": {
      "text/plain": [
       "array([[  0, 713, 672, ..., 275, 629, 785],\n",
       "       [713,   0,  76, ..., 450, 925, 262],\n",
       "       [672,  76,   0, ..., 422, 938, 332],\n",
       "       ...,\n",
       "       [275, 450, 422, ...,   0, 609, 512],\n",
       "       [629, 925, 938, ..., 609,   0, 795],\n",
       "       [785, 262, 332, ..., 512, 795,   0]])"
      ]
     },
     "execution_count": 244,
     "metadata": {},
     "output_type": "execute_result"
    }
   ],
   "source": [
    "import numpy as np\n",
    "from scipy.spatial.distance import cdist\n",
    "\n",
    "def euclidean_distances(points):\n",
    "    # Преобразование массива точек в формат, понятный функции cdist\n",
    "    points = np.squeeze(points)\n",
    "    # Вычисление матрицы евклидовых расстояний с помощью функции cdist\n",
    "    dist_matrix = cdist(points, points, metric='euclidean')\n",
    "    multiplied_distances = (dist_matrix * 1000).astype(int)\n",
    "    return multiplied_distances  # Преобразование в список для вывода\n",
    "\n",
    "# Ваш входной массив точек\n",
    "input_array = node_\n",
    "# Вычисление матрицы евклидовых расстояний с помощью функции euclidean_distances\n",
    "distances = euclidean_distances(input_array)\n",
    "\n",
    "distances"
   ]
  },
  {
   "cell_type": "code",
   "execution_count": 245,
   "metadata": {},
   "outputs": [
    {
     "data": {
      "text/plain": [
       "array([[0.        ],\n",
       "       [0.7138699 ],\n",
       "       [0.67296804],\n",
       "       ...,\n",
       "       [0.51228862],\n",
       "       [0.79582808],\n",
       "       [0.        ]])"
      ]
     },
     "execution_count": 245,
     "metadata": {},
     "output_type": "execute_result"
    }
   ],
   "source": [
    "edges_"
   ]
  },
  {
   "cell_type": "code",
   "execution_count": 257,
   "metadata": {},
   "outputs": [
    {
     "name": "stdout",
     "output_type": "stream",
     "text": [
      "Objective: 6746\n",
      "Route for vehicle 0:\n",
      " 0 Load(0) ->  3 Load(508) ->  4 Load(1213) ->  12 Load(1761) ->  38 Load(2100) ->  11 Load(2803) ->  13 Load(3269) ->  8 Load(3814) ->  9 Load(4451) ->  34 Load(5175) ->  26 Load(6011) ->  31 Load(6928) ->  15 Load(7508) ->  0 Load(7508)\n",
      "Distance of the route: 2281m\n",
      "Load of the route: 7508\n",
      "\n",
      "Route for vehicle 1:\n",
      " 0 Load(0) ->  18 Load(521) ->  32 Load(1386) ->  35 Load(2049) ->  30 Load(2684) ->  39 Load(3249) ->  17 Load(3959) ->  28 Load(4806) ->  1 Load(5264) ->  22 Load(6072) ->  2 Load(6534) ->  14 Load(6942) ->  7 Load(6942) ->  23 Load(7757) ->  0 Load(7757)\n",
      "Distance of the route: 2189m\n",
      "Load of the route: 7757\n",
      "\n",
      "Route for vehicle 2:\n",
      " 0 Load(0) ->  36 Load(954) ->  24 Load(1917) ->  20 Load(2698) ->  5 Load(2968) ->  25 Load(3969) ->  27 Load(4509) ->  21 Load(5258) ->  37 Load(5901) ->  10 Load(6559) ->  16 Load(7228) ->  0 Load(7228)\n",
      "Distance of the route: 1302m\n",
      "Load of the route: 7228\n",
      "\n",
      "Route for vehicle 3:\n",
      " 0 Load(0) ->  29 Load(1035) ->  33 Load(1655) ->  19 Load(2536) ->  6 Load(3213) ->  0 Load(3213)\n",
      "Distance of the route: 974m\n",
      "Load of the route: 3213\n",
      "\n",
      "Total distance of all routes: 6.746m\n",
      "Total load of all routes: 25706\n"
     ]
    }
   ],
   "source": [
    "\"\"\"Capacited Vehicles Routing Problem (CVRP).\"\"\"\n",
    "\n",
    "def create_data_model():\n",
    "    \"\"\"Stores the data for the problem.\"\"\"\n",
    "\n",
    "    data = {}\n",
    "    data[\"distance_matrix\"] = distances\n",
    "    data[\"demands\"] = demand\n",
    "    data[\"vehicle_capacities\"] = [8000, 8000, 8000, 8000]\n",
    "    data[\"num_vehicles\"] = 4\n",
    "    data[\"depot\"] = 0\n",
    "    return data\n",
    "\n",
    "\n",
    "\n",
    "def print_solution(data, manager, routing, solution):\n",
    "    \"\"\"Prints solution on console.\"\"\"\n",
    "    print(f\"Objective: {solution.ObjectiveValue()}\")\n",
    "    total_distance = 0\n",
    "    total_load = 0\n",
    "    for vehicle_id in range(data[\"num_vehicles\"]):\n",
    "        index = routing.Start(vehicle_id)\n",
    "        plan_output = f\"Route for vehicle {vehicle_id}:\\n\"\n",
    "        route_distance = 0\n",
    "        route_load = 0\n",
    "        while not routing.IsEnd(index):\n",
    "            node_index = manager.IndexToNode(index)\n",
    "            route_load += data[\"demands\"][node_index]\n",
    "            plan_output += f\" {node_index} Load({route_load}) -> \"\n",
    "            previous_index = index\n",
    "            index = solution.Value(routing.NextVar(index))\n",
    "            route_distance += routing.GetArcCostForVehicle(\n",
    "                previous_index, index, vehicle_id\n",
    "            )\n",
    "        plan_output += f\" {manager.IndexToNode(index)} Load({route_load})\\n\"\n",
    "        plan_output += f\"Distance of the route: {route_distance}m\\n\"\n",
    "        plan_output += f\"Load of the route: {route_load}\\n\"\n",
    "        print(plan_output)\n",
    "        total_distance += route_distance\n",
    "        total_load += route_load\n",
    "    print(f\"Total distance of all routes: {total_distance/1000}m\")\n",
    "    print(f\"Total load of all routes: {total_load}\")\n",
    "\n",
    "\n",
    "def main():\n",
    "    \"\"\"Solve the CVRP problem.\"\"\"\n",
    "    # Instantiate the data problem.\n",
    "    data = create_data_model()\n",
    "\n",
    "    # Create the routing index manager.\n",
    "    manager = pywrapcp.RoutingIndexManager(\n",
    "        len(data[\"distance_matrix\"]), data[\"num_vehicles\"], data[\"depot\"]\n",
    "    )\n",
    "\n",
    "    # Create Routing Model.\n",
    "    routing = pywrapcp.RoutingModel(manager)\n",
    "\n",
    "    # Create and register a transit callback.\n",
    "    def distance_callback(from_index, to_index):\n",
    "        \"\"\"Returns the distance between the two nodes.\"\"\"\n",
    "        # Convert from routing variable Index to distance matrix NodeIndex.\n",
    "        from_node = manager.IndexToNode(from_index)\n",
    "        to_node = manager.IndexToNode(to_index)\n",
    "        return data[\"distance_matrix\"][from_node][to_node]\n",
    "\n",
    "    transit_callback_index = routing.RegisterTransitCallback(distance_callback)\n",
    "\n",
    "    # Define cost of each arc.\n",
    "    routing.SetArcCostEvaluatorOfAllVehicles(transit_callback_index)\n",
    "\n",
    "    # Add Capacity constraint.\n",
    "    def demand_callback(from_index):\n",
    "        \"\"\"Returns the demand of the node.\"\"\"\n",
    "        # Convert from routing variable Index to demands NodeIndex.\n",
    "        from_node = manager.IndexToNode(from_index)\n",
    "        return data[\"demands\"][from_node]\n",
    "\n",
    "    demand_callback_index = routing.RegisterUnaryTransitCallback(demand_callback)\n",
    "    routing.AddDimensionWithVehicleCapacity(\n",
    "        demand_callback_index,\n",
    "        0,  # null capacity slack\n",
    "        data[\"vehicle_capacities\"],  # vehicle maximum capacities\n",
    "        True,  # start cumul to zero\n",
    "        \"Capacity\",\n",
    "    )\n",
    "  \n",
    "    # Setting first solution heuristic.\n",
    "    search_parameters = pywrapcp.DefaultRoutingSearchParameters()\n",
    "    search_parameters.first_solution_strategy = (\n",
    "        routing_enums_pb2.FirstSolutionStrategy.PATH_CHEAPEST_ARC\n",
    "    )\n",
    "    search_parameters.local_search_metaheuristic = (\n",
    "        routing_enums_pb2.LocalSearchMetaheuristic.GUIDED_LOCAL_SEARCH\n",
    "    )\n",
    "    search_parameters.time_limit.FromSeconds(1)\n",
    "\n",
    "    # Solve the problem.\n",
    "    solution = routing.SolveWithParameters(search_parameters)\n",
    "\n",
    "    # Print solution on console.\n",
    "    if solution:\n",
    "        print_solution(data, manager, routing, solution)\n",
    "\n",
    "if __name__ == \"__main__\":\n",
    "    main()"
   ]
  }
 ],
 "metadata": {
  "kernelspec": {
   "display_name": "Python 3.10.11 ('vrptest': venv)",
   "language": "python",
   "name": "python3"
  },
  "language_info": {
   "codemirror_mode": {
    "name": "ipython",
    "version": 3
   },
   "file_extension": ".py",
   "mimetype": "text/x-python",
   "name": "python",
   "nbconvert_exporter": "python",
   "pygments_lexer": "ipython3",
   "version": "3.10.6"
  },
  "orig_nbformat": 4,
  "vscode": {
   "interpreter": {
    "hash": "08937daeaa3b9cb2c169d4b5e7011e9e651c8b2cb2f9ea96272765da9235f9f3"
   }
  }
 },
 "nbformat": 4,
 "nbformat_minor": 2
}
